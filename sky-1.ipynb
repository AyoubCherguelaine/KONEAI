{
 "cells": [
  {
   "cell_type": "code",
   "execution_count": 26,
   "id": "incoming-alexander",
   "metadata": {},
   "outputs": [],
   "source": [
    "import numpy as np \n",
    "import pandas as pd"
   ]
  },
  {
   "cell_type": "code",
   "execution_count": 27,
   "id": "hungry-walnut",
   "metadata": {},
   "outputs": [],
   "source": [
    "data = pd.read_csv('train.csv')"
   ]
  },
  {
   "cell_type": "code",
   "execution_count": 28,
   "id": "grave-sensitivity",
   "metadata": {},
   "outputs": [
    {
     "data": {
      "text/html": [
       "<div>\n",
       "<style scoped>\n",
       "    .dataframe tbody tr th:only-of-type {\n",
       "        vertical-align: middle;\n",
       "    }\n",
       "\n",
       "    .dataframe tbody tr th {\n",
       "        vertical-align: top;\n",
       "    }\n",
       "\n",
       "    .dataframe thead th {\n",
       "        text-align: right;\n",
       "    }\n",
       "</style>\n",
       "<table border=\"1\" class=\"dataframe\">\n",
       "  <thead>\n",
       "    <tr style=\"text-align: right;\">\n",
       "      <th></th>\n",
       "      <th>case_id</th>\n",
       "      <th>equipment_id</th>\n",
       "      <th>completion_date</th>\n",
       "      <th>action_recommendation_id</th>\n",
       "      <th>action_recommendation_type</th>\n",
       "      <th>action_recommendation_category</th>\n",
       "      <th>equipment_area</th>\n",
       "      <th>usage_type</th>\n",
       "      <th>speed_category</th>\n",
       "      <th>load_category</th>\n",
       "      <th>floors_category</th>\n",
       "      <th>equipment_category</th>\n",
       "      <th>feedback</th>\n",
       "    </tr>\n",
       "  </thead>\n",
       "  <tbody>\n",
       "    <tr>\n",
       "      <th>0</th>\n",
       "      <td>b7c775ad-4ebe-4848-9c53-37e7c5658e21</td>\n",
       "      <td>ele0000754</td>\n",
       "      <td>2018-10-03</td>\n",
       "      <td>ar00000174</td>\n",
       "      <td>art01</td>\n",
       "      <td>arc03</td>\n",
       "      <td>ga00000803</td>\n",
       "      <td>ut012</td>\n",
       "      <td>7</td>\n",
       "      <td>6</td>\n",
       "      <td>8</td>\n",
       "      <td>tp006</td>\n",
       "      <td>1</td>\n",
       "    </tr>\n",
       "    <tr>\n",
       "      <th>1</th>\n",
       "      <td>b177eefd-3946-4949-9699-0a91879350f9</td>\n",
       "      <td>ele0000789</td>\n",
       "      <td>2018-10-03</td>\n",
       "      <td>ar00000248</td>\n",
       "      <td>art02</td>\n",
       "      <td>arc03</td>\n",
       "      <td>ga00000269</td>\n",
       "      <td>ut005</td>\n",
       "      <td>4</td>\n",
       "      <td>6</td>\n",
       "      <td>2</td>\n",
       "      <td>tp001</td>\n",
       "      <td>1</td>\n",
       "    </tr>\n",
       "    <tr>\n",
       "      <th>2</th>\n",
       "      <td>fc2d568a-c53c-43ef-8871-a49ec22ab3b1</td>\n",
       "      <td>ele0001227</td>\n",
       "      <td>2018-10-03</td>\n",
       "      <td>ar00000158</td>\n",
       "      <td>art02</td>\n",
       "      <td>arc03</td>\n",
       "      <td>ga00000064</td>\n",
       "      <td>ut011</td>\n",
       "      <td>6</td>\n",
       "      <td>6</td>\n",
       "      <td>7</td>\n",
       "      <td>tp006</td>\n",
       "      <td>1</td>\n",
       "    </tr>\n",
       "    <tr>\n",
       "      <th>3</th>\n",
       "      <td>8e645922-1268-4c6b-ae6b-7b1605689cca</td>\n",
       "      <td>ele0001754</td>\n",
       "      <td>2018-10-03</td>\n",
       "      <td>ar00000105</td>\n",
       "      <td>art01</td>\n",
       "      <td>arc03</td>\n",
       "      <td>ga00000662</td>\n",
       "      <td>ut005</td>\n",
       "      <td>8</td>\n",
       "      <td>7</td>\n",
       "      <td>8</td>\n",
       "      <td>tp014</td>\n",
       "      <td>1</td>\n",
       "    </tr>\n",
       "    <tr>\n",
       "      <th>4</th>\n",
       "      <td>b44f10b1-9238-44db-8f0c-2d68e8c015a7</td>\n",
       "      <td>ele0002087</td>\n",
       "      <td>2018-10-03</td>\n",
       "      <td>ar00000148</td>\n",
       "      <td>art02</td>\n",
       "      <td>arc03</td>\n",
       "      <td>ga00001256</td>\n",
       "      <td>ut011</td>\n",
       "      <td>7</td>\n",
       "      <td>6</td>\n",
       "      <td>8</td>\n",
       "      <td>tp013</td>\n",
       "      <td>1</td>\n",
       "    </tr>\n",
       "  </tbody>\n",
       "</table>\n",
       "</div>"
      ],
      "text/plain": [
       "                                case_id equipment_id completion_date  \\\n",
       "0  b7c775ad-4ebe-4848-9c53-37e7c5658e21   ele0000754      2018-10-03   \n",
       "1  b177eefd-3946-4949-9699-0a91879350f9   ele0000789      2018-10-03   \n",
       "2  fc2d568a-c53c-43ef-8871-a49ec22ab3b1   ele0001227      2018-10-03   \n",
       "3  8e645922-1268-4c6b-ae6b-7b1605689cca   ele0001754      2018-10-03   \n",
       "4  b44f10b1-9238-44db-8f0c-2d68e8c015a7   ele0002087      2018-10-03   \n",
       "\n",
       "  action_recommendation_id action_recommendation_type  \\\n",
       "0               ar00000174                      art01   \n",
       "1               ar00000248                      art02   \n",
       "2               ar00000158                      art02   \n",
       "3               ar00000105                      art01   \n",
       "4               ar00000148                      art02   \n",
       "\n",
       "  action_recommendation_category equipment_area usage_type  speed_category  \\\n",
       "0                          arc03     ga00000803      ut012               7   \n",
       "1                          arc03     ga00000269      ut005               4   \n",
       "2                          arc03     ga00000064      ut011               6   \n",
       "3                          arc03     ga00000662      ut005               8   \n",
       "4                          arc03     ga00001256      ut011               7   \n",
       "\n",
       "   load_category  floors_category equipment_category  feedback  \n",
       "0              6                8              tp006         1  \n",
       "1              6                2              tp001         1  \n",
       "2              6                7              tp006         1  \n",
       "3              7                8              tp014         1  \n",
       "4              6                8              tp013         1  "
      ]
     },
     "execution_count": 28,
     "metadata": {},
     "output_type": "execute_result"
    }
   ],
   "source": [
    "data.head()"
   ]
  },
  {
   "cell_type": "code",
   "execution_count": 29,
   "id": "bronze-stanley",
   "metadata": {},
   "outputs": [],
   "source": [
    "from sklearn.preprocessing import OrdinalEncoder\n",
    "ord_enc = OrdinalEncoder()\n",
    "data[\"case_id\"] = ord_enc.fit_transform(data[[\"case_id\"]])\n",
    "data[\"equipment_id\"] = ord_enc.fit_transform(data[[\"equipment_id\"]])\n",
    "data[\"completion_date\"] = ord_enc.fit_transform(data[[\"completion_date\"]])\n",
    "data[\"action_recommendation_id\"] = ord_enc.fit_transform(data[[\"action_recommendation_id\"]])\n",
    "data[\"action_recommendation_type\"] = ord_enc.fit_transform(data[[\"action_recommendation_type\"]])\n",
    "data[\"action_recommendation_category\"] = ord_enc.fit_transform(data[[\"action_recommendation_category\"]])\n",
    "data[\"equipment_area\"] = ord_enc.fit_transform(data[[\"equipment_area\"]])\n",
    "data[\"usage_type\"] = ord_enc.fit_transform(data[[\"usage_type\"]])\n",
    "data[\"equipment_category\"] = ord_enc.fit_transform(data[[\"equipment_category\"]])"
   ]
  },
  {
   "cell_type": "code",
   "execution_count": null,
   "id": "natural-graph",
   "metadata": {},
   "outputs": [],
   "source": []
  },
  {
   "cell_type": "code",
   "execution_count": 30,
   "id": "composite-cloud",
   "metadata": {},
   "outputs": [],
   "source": [
    "y = data['feedback']\n",
    "X = data.drop('feedback',axis=1)"
   ]
  },
  {
   "cell_type": "code",
   "execution_count": 31,
   "id": "handmade-israeli",
   "metadata": {},
   "outputs": [],
   "source": [
    "from sklearn.model_selection import train_test_split\n",
    "X_train , X_test , y_train , y_test = train_test_split(X,y,test_size=0.4,stratify=y)"
   ]
  },
  {
   "cell_type": "code",
   "execution_count": 32,
   "id": "unlike-rings",
   "metadata": {},
   "outputs": [],
   "source": [
    "from sklearn.model_selection import GridSearchCV\n",
    "from sklearn.neighbors import KNeighborsClassifier\n",
    "grid_params = {\n",
    "    'n_neighbors' : [3,5,7,9,11],\n",
    "    'metric' : ['euclidean','manhattan']\n",
    "}\n",
    "gs = GridSearchCV(\n",
    "    KNeighborsClassifier(),\n",
    "    grid_params,\n",
    "    cv=3\n",
    ")\n",
    "gs_results = gs.fit(X_train,y_train)"
   ]
  },
  {
   "cell_type": "code",
   "execution_count": 33,
   "id": "spatial-participant",
   "metadata": {},
   "outputs": [
    {
     "data": {
      "text/plain": [
       "{'metric': 'manhattan', 'n_neighbors': 11}"
      ]
     },
     "execution_count": 33,
     "metadata": {},
     "output_type": "execute_result"
    }
   ],
   "source": [
    "gs_results.best_params_"
   ]
  },
  {
   "cell_type": "code",
   "execution_count": 34,
   "id": "developing-stationery",
   "metadata": {},
   "outputs": [
    {
     "name": "stdout",
     "output_type": "stream",
     "text": [
      "0.8511366096557696\n"
     ]
    }
   ],
   "source": [
    "knn = KNeighborsClassifier(n_neighbors=3,metric='manhattan')\n",
    "knn.fit(X_train,y_train)\n",
    "y_pred = knn.predict(X_test)\n",
    "print(knn.score(X_test, y_test))"
   ]
  },
  {
   "cell_type": "code",
   "execution_count": 35,
   "id": "metric-aaron",
   "metadata": {},
   "outputs": [
    {
     "name": "stdout",
     "output_type": "stream",
     "text": [
      "p= 0.8886400369429693\n",
      "r= 0.9493586581154415\n"
     ]
    }
   ],
   "source": [
    "from sklearn.metrics import precision_score,recall_score\n",
    "print('p=',precision_score(y_test,y_pred))\n",
    "print('r=',recall_score(y_test,y_pred))"
   ]
  },
  {
   "cell_type": "code",
   "execution_count": 36,
   "id": "behind-provider",
   "metadata": {},
   "outputs": [
    {
     "data": {
      "text/plain": [
       "array([[  827,  4823],\n",
       "       [ 2053, 38487]], dtype=int64)"
      ]
     },
     "execution_count": 36,
     "metadata": {},
     "output_type": "execute_result"
    }
   ],
   "source": [
    "from sklearn.metrics import confusion_matrix\n",
    "confusion_matrix(y_test,y_pred)"
   ]
  },
  {
   "cell_type": "code",
   "execution_count": 37,
   "id": "addressed-record",
   "metadata": {},
   "outputs": [],
   "source": [
    "datatest = pd.read_csv('test.csv')"
   ]
  },
  {
   "cell_type": "code",
   "execution_count": 38,
   "id": "acquired-words",
   "metadata": {},
   "outputs": [
    {
     "name": "stdout",
     "output_type": "stream",
     "text": [
      "<class 'pandas.core.frame.DataFrame'>\n",
      "RangeIndex: 29428 entries, 0 to 29427\n",
      "Data columns (total 12 columns):\n",
      " #   Column                          Non-Null Count  Dtype \n",
      "---  ------                          --------------  ----- \n",
      " 0   case_id                         29428 non-null  object\n",
      " 1   equipment_id                    29428 non-null  object\n",
      " 2   completion_date                 29428 non-null  object\n",
      " 3   action_recommendation_id        29427 non-null  object\n",
      " 4   action_recommendation_type      29428 non-null  object\n",
      " 5   action_recommendation_category  29428 non-null  object\n",
      " 6   equipment_area                  29345 non-null  object\n",
      " 7   usage_type                      29428 non-null  object\n",
      " 8   speed_category                  29428 non-null  int64 \n",
      " 9   load_category                   29428 non-null  int64 \n",
      " 10  floors_category                 29428 non-null  int64 \n",
      " 11  equipment_category              29428 non-null  object\n",
      "dtypes: int64(3), object(9)\n",
      "memory usage: 2.7+ MB\n"
     ]
    }
   ],
   "source": [
    "datatest.info()"
   ]
  },
  {
   "cell_type": "code",
   "execution_count": 39,
   "id": "western-private",
   "metadata": {},
   "outputs": [],
   "source": [
    "datatest['equipment_area'].fillna(datatest['equipment_area'].mode()[0],inplace=True)"
   ]
  },
  {
   "cell_type": "code",
   "execution_count": 40,
   "id": "stock-productivity",
   "metadata": {},
   "outputs": [],
   "source": [
    "datatest['action_recommendation_id'].fillna(datatest['equipment_area'].mode()[0],inplace=True)"
   ]
  },
  {
   "cell_type": "code",
   "execution_count": 41,
   "id": "capable-indicator",
   "metadata": {},
   "outputs": [],
   "source": [
    "from sklearn.preprocessing import OrdinalEncoder\n",
    "ord_enc = OrdinalEncoder()\n",
    "datatest[\"case_id\"] = ord_enc.fit_transform(datatest[[\"case_id\"]])\n",
    "datatest[\"equipment_id\"] = ord_enc.fit_transform(datatest[[\"equipment_id\"]])\n",
    "datatest[\"completion_date\"] = ord_enc.fit_transform(datatest[[\"completion_date\"]])\n",
    "datatest[\"action_recommendation_id\"] = ord_enc.fit_transform(datatest[[\"action_recommendation_id\"]])\n",
    "datatest[\"action_recommendation_type\"] = ord_enc.fit_transform(datatest[[\"action_recommendation_type\"]])\n",
    "datatest[\"action_recommendation_category\"] = ord_enc.fit_transform(datatest[[\"action_recommendation_category\"]])\n",
    "datatest[\"equipment_area\"] = ord_enc.fit_transform(datatest[[\"equipment_area\"]])\n",
    "datatest[\"usage_type\"] = ord_enc.fit_transform(datatest[[\"usage_type\"]])\n",
    "datatest[\"equipment_category\"] = ord_enc.fit_transform(datatest[[\"equipment_category\"]])"
   ]
  },
  {
   "cell_type": "code",
   "execution_count": 42,
   "id": "rough-rating",
   "metadata": {},
   "outputs": [
    {
     "name": "stdout",
     "output_type": "stream",
     "text": [
      "<class 'pandas.core.frame.DataFrame'>\n",
      "RangeIndex: 29428 entries, 0 to 29427\n",
      "Data columns (total 12 columns):\n",
      " #   Column                          Non-Null Count  Dtype  \n",
      "---  ------                          --------------  -----  \n",
      " 0   case_id                         29428 non-null  float64\n",
      " 1   equipment_id                    29428 non-null  float64\n",
      " 2   completion_date                 29428 non-null  float64\n",
      " 3   action_recommendation_id        29428 non-null  float64\n",
      " 4   action_recommendation_type      29428 non-null  float64\n",
      " 5   action_recommendation_category  29428 non-null  float64\n",
      " 6   equipment_area                  29428 non-null  float64\n",
      " 7   usage_type                      29428 non-null  float64\n",
      " 8   speed_category                  29428 non-null  int64  \n",
      " 9   load_category                   29428 non-null  int64  \n",
      " 10  floors_category                 29428 non-null  int64  \n",
      " 11  equipment_category              29428 non-null  float64\n",
      "dtypes: float64(9), int64(3)\n",
      "memory usage: 2.7 MB\n"
     ]
    }
   ],
   "source": [
    "datatest.info()"
   ]
  },
  {
   "cell_type": "code",
   "execution_count": 43,
   "id": "governing-standing",
   "metadata": {},
   "outputs": [],
   "source": [
    "Z=datatest"
   ]
  },
  {
   "cell_type": "code",
   "execution_count": 44,
   "id": "substantial-shannon",
   "metadata": {},
   "outputs": [
    {
     "data": {
      "image/png": "[encoded data removed]",
      "text/plain": [
       "<Figure size 432x288 with 1 Axes>"
      ]
     },
     "metadata": {
      "needs_background": "light"
     },
     "output_type": "display_data"
    }
   ],
   "source": [
    "import numpy as np\n",
    "import matplotlib.pyplot as plt \n",
    "# Setup arrays to store train and test accuracies\n",
    "neighbors = np.arange(1, 9)\n",
    "train_accuracy = np.empty(len(neighbors))\n",
    "test_accuracy = np.empty(len(neighbors))\n",
    "\n",
    "# Loop over different values of k\n",
    "for i, k in enumerate(neighbors):\n",
    "    # Setup a k-NN Classifier with k neighbors: knn\n",
    "    knn = KNeighborsClassifier(n_neighbors=k)\n",
    "\n",
    "    # Fit the classifier to the training data\n",
    "    knn.fit(X_train,y_train)\n",
    "    \n",
    "    #Compute accuracy on the training set\n",
    "    train_accuracy[i] = knn.score(X_train, y_train)\n",
    "\n",
    "    #Compute accuracy on the testing set\n",
    "    test_accuracy[i] = knn.score(X_test, y_test)\n",
    "\n",
    "# Generate plot\n",
    "plt.title('k-NN: Varying Number of Neighbors')\n",
    "plt.plot(neighbors, test_accuracy, label = 'Testing Accuracy')\n",
    "plt.plot(neighbors, train_accuracy, label = 'Training Accuracy')\n",
    "plt.legend()\n",
    "plt.xlabel('Number of Neighbors')\n",
    "plt.ylabel('Accuracy')\n",
    "plt.show()"
   ]
  },
  {
   "cell_type": "code",
   "execution_count": 45,
   "id": "modified-permission",
   "metadata": {},
   "outputs": [
    {
     "name": "stdout",
     "output_type": "stream",
     "text": [
      "Your submission was successfully saved!\n"
     ]
    }
   ],
   "source": [
    "predictions = knn.predict(datatest)\n",
    "\n",
    "output = pd.DataFrame({'case_id': datatest.case_id,'action_recommendation_id': datatest.action_recommendation_id, 'feedback': predictions})\n",
    "output.to_csv('my_submission2.csv', index=False)\n",
    "print(\"Your submission was successfully saved!\")"
   ]
  },
  {
   "cell_type": "code",
   "execution_count": null,
   "id": "second-fight",
   "metadata": {},
   "outputs": [],
   "source": []
  }
 ],
 "metadata": {
  "kernelspec": {
   "display_name": "Python 3 (ipykernel)",
   "language": "python",
   "name": "python3"
  },
  "language_info": {
   "codemirror_mode": {
    "name": "ipython",
    "version": 3
   },
   "file_extension": ".py",
   "mimetype": "text/x-python",
   "name": "python",
   "nbconvert_exporter": "python",
   "pygments_lexer": "ipython3",
   "version": "3.9.6"
  }
 },
 "nbformat": 4,
 "nbformat_minor": 5
}
